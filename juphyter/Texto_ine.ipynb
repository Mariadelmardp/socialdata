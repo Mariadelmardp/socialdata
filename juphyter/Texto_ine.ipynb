{
 "cells": [
  {
   "cell_type": "code",
   "execution_count": 3,
   "id": "3a063a79",
   "metadata": {},
   "outputs": [],
   "source": [
    "import pandas as pd \n",
    "import numpy as np \n"
   ]
  },
  {
   "cell_type": "code",
   "execution_count": 10,
   "id": "8ba4c2a5",
   "metadata": {},
   "outputs": [],
   "source": [
    "\n",
    "\n",
    "# Opción más completa con manejo de diferentes formatos regionales\n",
    "df = pd.read_csv(r\"..\\data\\INE\\Uso de Internet por Comunidades y Ciudades Autónomas y frecuencia de uso..csv\", \n",
    "                 delimiter=';', \n",
    "                 decimal=',',\n",
    "                 thousands='.',\n",
    "                 encoding='utf-8')"
   ]
  },
  {
   "cell_type": "code",
   "execution_count": 11,
   "id": "67aad32b",
   "metadata": {},
   "outputs": [
    {
     "name": "stdout",
     "output_type": "stream",
     "text": [
      "<class 'pandas.core.frame.DataFrame'>\n",
      "RangeIndex: 512 entries, 0 to 511\n",
      "Data columns (total 4 columns):\n",
      " #   Column                        Non-Null Count  Dtype  \n",
      "---  ------                        --------------  -----  \n",
      " 0   Población de referencia       512 non-null    object \n",
      " 1   Características demográficas  512 non-null    object \n",
      " 2   Frecuencia de uso de compra   512 non-null    object \n",
      " 3   Total                         512 non-null    float64\n",
      "dtypes: float64(1), object(3)\n",
      "memory usage: 16.1+ KB\n"
     ]
    }
   ],
   "source": [
    "df.info()"
   ]
  },
  {
   "cell_type": "code",
   "execution_count": 15,
   "id": "99f8fcde",
   "metadata": {},
   "outputs": [
    {
     "data": {
      "text/html": [
       "<div>\n",
       "<style scoped>\n",
       "    .dataframe tbody tr th:only-of-type {\n",
       "        vertical-align: middle;\n",
       "    }\n",
       "\n",
       "    .dataframe tbody tr th {\n",
       "        vertical-align: top;\n",
       "    }\n",
       "\n",
       "    .dataframe thead th {\n",
       "        text-align: right;\n",
       "    }\n",
       "</style>\n",
       "<table border=\"1\" class=\"dataframe\">\n",
       "  <thead>\n",
       "    <tr style=\"text-align: right;\">\n",
       "      <th></th>\n",
       "      <th>Población de referencia</th>\n",
       "      <th>Características demográficas</th>\n",
       "      <th>Frecuencia de uso de compra</th>\n",
       "      <th>Total</th>\n",
       "    </tr>\n",
       "  </thead>\n",
       "  <tbody>\n",
       "    <tr>\n",
       "      <th>218</th>\n",
       "      <td>Usuarios de Internet en los últimos 12 meses</td>\n",
       "      <td>Tipo de hogar: Pareja con hijos que convivan e...</td>\n",
       "      <td>Han comprado en los últimos 12 meses</td>\n",
       "      <td>78.6</td>\n",
       "    </tr>\n",
       "    <tr>\n",
       "      <th>145</th>\n",
       "      <td>Usuarios de Internet en los últimos 12 meses</td>\n",
       "      <td>Edad: De 25 a 34 años</td>\n",
       "      <td>Han comprado alguna vez</td>\n",
       "      <td>91.7</td>\n",
       "    </tr>\n",
       "    <tr>\n",
       "      <th>395</th>\n",
       "      <td>Personas que han comprado por Internet en los ...</td>\n",
       "      <td>Sexo: Mujer</td>\n",
       "      <td>Han comprado en los últimos 3 meses</td>\n",
       "      <td>83.1</td>\n",
       "    </tr>\n",
       "    <tr>\n",
       "      <th>496</th>\n",
       "      <td>Personas que han comprado por Internet en los ...</td>\n",
       "      <td>Nacionalidad: extranjera</td>\n",
       "      <td>Total</td>\n",
       "      <td>3474867.0</td>\n",
       "    </tr>\n",
       "    <tr>\n",
       "      <th>116</th>\n",
       "      <td>Total Personas</td>\n",
       "      <td>Limitación de la actividad: Muy limitado</td>\n",
       "      <td>Total</td>\n",
       "      <td>925285.0</td>\n",
       "    </tr>\n",
       "  </tbody>\n",
       "</table>\n",
       "</div>"
      ],
      "text/plain": [
       "                               Población de referencia  \\\n",
       "218       Usuarios de Internet en los últimos 12 meses   \n",
       "145       Usuarios de Internet en los últimos 12 meses   \n",
       "395  Personas que han comprado por Internet en los ...   \n",
       "496  Personas que han comprado por Internet en los ...   \n",
       "116                                     Total Personas   \n",
       "\n",
       "                          Características demográficas  \\\n",
       "218  Tipo de hogar: Pareja con hijos que convivan e...   \n",
       "145                              Edad: De 25 a 34 años   \n",
       "395                                        Sexo: Mujer   \n",
       "496                           Nacionalidad: extranjera   \n",
       "116           Limitación de la actividad: Muy limitado   \n",
       "\n",
       "              Frecuencia de uso de compra      Total  \n",
       "218  Han comprado en los últimos 12 meses       78.6  \n",
       "145               Han comprado alguna vez       91.7  \n",
       "395   Han comprado en los últimos 3 meses       83.1  \n",
       "496                                 Total  3474867.0  \n",
       "116                                 Total   925285.0  "
      ]
     },
     "execution_count": 15,
     "metadata": {},
     "output_type": "execute_result"
    }
   ],
   "source": [
    "df.sample(5)"
   ]
  },
  {
   "cell_type": "code",
   "execution_count": null,
   "id": "64eddb58",
   "metadata": {},
   "outputs": [
    {
     "data": {
      "text/plain": [
       "Población de referencia\n",
       "Total Personas                                                    128\n",
       "Usuarios de Internet en los últimos 12 meses                      128\n",
       "Usuarios de Internet en los últimos 3 meses                       128\n",
       "Personas que han comprado por Internet en los últimos 12 meses    128\n",
       "Name: count, dtype: int64"
      ]
     },
     "execution_count": 25,
     "metadata": {},
     "output_type": "execute_result"
    }
   ],
   "source": [
    "\n",
    "df['Población de referencia'].value_counts()"
   ]
  },
  {
   "cell_type": "code",
   "execution_count": 26,
   "id": "1f39d624",
   "metadata": {},
   "outputs": [
    {
     "data": {
      "text/plain": [
       "Características demográficas\n",
       "Total Personas                                                    16\n",
       "Sexo: Hombre                                                      16\n",
       "Limitación de la actividad: Limitado, pero no severamente         16\n",
       "Limitación de la actividad: Muy limitado                          16\n",
       "Nacionalidad: extranjera                                          16\n",
       "Nacionalidad: española                                            16\n",
       "Convivencia en pareja: No convive en pareja                       16\n",
       "Convivencia en pareja: Conviviendo con una pareja de hecho        16\n",
       "Convivencia en pareja: Conviviendo con su cónyuge                 16\n",
       "Tipo de hogar: Otro tipo de hogar                                 16\n",
       "Tipo de hogar: Pareja con hijos que convivan en el hogar          16\n",
       "Tipo de hogar: Pareja sin hijos que convivan en el hogar          16\n",
       "Tipo de hogar: Padre o madre solo/a que conviva con algún hijo    16\n",
       "Tipo de hogar: Hogar unipersonal                                  16\n",
       "Tamaño del hogar: Hogares de 5 ó más miembros                     16\n",
       "Tamaño del hogar: Hogares de 4 miembros                           16\n",
       "Tamaño del hogar: Hogares de 3 miembros                           16\n",
       "Tamaño del hogar: Hogares de 2 miembros                           16\n",
       "Tamaño del hogar: Hogares de 1 miembro                            16\n",
       "Hábitat: Menos de 10.000 habitantes                               16\n",
       "Hábitat: De 10.000 a 20.000 habitantes                            16\n",
       "Hábitat: De 20.000 a 50.000 habitantes                            16\n",
       "Hábitat: De 50.000 a 100.000 habitantes                           16\n",
       "Hábitat: Más de 100.000 habitantes y capitales de provincia       16\n",
       "Edad: De 65 a 74 años                                             16\n",
       "Edad: De 55 a 64 años                                             16\n",
       "Edad: De 45 a 54 años                                             16\n",
       "Edad: De 35 a 44 años                                             16\n",
       "Edad: De 25 a 34 años                                             16\n",
       "Edad: De 16 a 24 años                                             16\n",
       "Sexo: Mujer                                                       16\n",
       "Limitación de la actividad: Nada limitado                         16\n",
       "Name: count, dtype: int64"
      ]
     },
     "execution_count": 26,
     "metadata": {},
     "output_type": "execute_result"
    }
   ],
   "source": [
    "df['Características demográficas'].value_counts()"
   ]
  }
 ],
 "metadata": {
  "kernelspec": {
   "display_name": "base",
   "language": "python",
   "name": "python3"
  },
  "language_info": {
   "codemirror_mode": {
    "name": "ipython",
    "version": 3
   },
   "file_extension": ".py",
   "mimetype": "text/x-python",
   "name": "python",
   "nbconvert_exporter": "python",
   "pygments_lexer": "ipython3",
   "version": "3.12.4"
  }
 },
 "nbformat": 4,
 "nbformat_minor": 5
}
